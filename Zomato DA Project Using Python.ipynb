{
 "cells": [
  {
   "cell_type": "markdown",
   "id": "c0d67c79-f8cd-4ecd-b00e-9aecc3d3e162",
   "metadata": {},
   "source": [
    "# Zomato data analysis project"
   ]
  },
  {
   "cell_type": "markdown",
   "id": "a794671c-482f-45e1-86fb-3dee15544d5f",
   "metadata": {},
   "source": [
    "# Data Analysis Project Using Python"
   ]
  },
  {
   "cell_type": "raw",
   "id": "ac55164d-9c5e-4ca0-a2b5-83ab1b25c8bf",
   "metadata": {},
   "source": [
    "# Zomato has an average of 17.5 million monthly transacting customers for its food delivery business.e average\n",
    " monthly active food delivery restrurant partners on Zomato's platform have also increased by 8.7% year-on-year,from 208,000 to 226,000.\n",
    " You are working in a data-driven role at Zomato. You have a dataset of customers. As a data professional, you need to analyse the data,perform \n",
    " EDA(Exploratory Data Analysis) and visualization, and answer the folling questions:-"
   ]
  },
  {
   "cell_type": "markdown",
   "id": "224e3baa-c849-480f-9fca-c9ea3becf0c2",
   "metadata": {},
   "source": [
    "# Q1.What type of restaurant do the majority of customers order from?"
   ]
  },
  {
   "cell_type": "markdown",
   "id": "9c51cbd7-60ba-443f-b22c-32c543e5fb3d",
   "metadata": {},
   "source": [
    "# Q2.How many votes has each type of restaurant received from customers?\n",
    "# Q3.What are the ratings the majority of restaurant have received?\n",
    "# Q4.Zomato has observed that most couples order most of their food online.What is their aveage spending on each order?\n",
    "# Q5.Which mode (online or offline) has received the maximum rating?\n",
    "# Q6.Which type of restaurant received more offline order ,so that Zomato can process customers with some good offers?"
   ]
  },
  {
   "cell_type": "markdown",
   "id": "9584f66e-2436-4821-805a-c3bcbe73bae7",
   "metadata": {},
   "source": [
    "# Step-1 Importing Libraries"
   ]
  },
  {
   "cell_type": "raw",
   "id": "27f6ecd6-341b-4a23-9932-c1ef01833870",
   "metadata": {},
   "source": [
    "Pandas is used for data manipulation and analysis.\n",
    "Numpy is used for numerical operations.\n",
    "matplotlib.pyplot and seaborn are used for data visualization."
   ]
  },
  {
   "cell_type": "code",
   "execution_count": 1,
   "id": "607cf348-becc-481e-be1a-fd7ee743b82e",
   "metadata": {},
   "outputs": [],
   "source": [
    "import pandas as pd \n",
    "import numpy as np\n",
    "import seaborn as sns\n",
    "import matplotlib.pyplot as plt"
   ]
  },
  {
   "cell_type": "markdown",
   "id": "572f186a-d112-40b4-950e-61cd36b075bf",
   "metadata": {},
   "source": [
    "# Step-2 Create the data frame"
   ]
  },
  {
   "cell_type": "code",
   "execution_count": 2,
   "id": "ef0bde27-b2dd-4d44-a6f0-4ee3372ed4c6",
   "metadata": {},
   "outputs": [],
   "source": [
    "dataframe=pd.read_csv(r\"C:\\Users\\DELL\\Desktop\\Learn_all\\My projects\\Data Analysis Project Using Python,EDA\\Zomato data .csv\")"
   ]
  },
  {
   "cell_type": "code",
   "execution_count": 3,
   "id": "97561484-c89f-4bf0-94f0-672cf014fd92",
   "metadata": {},
   "outputs": [
    {
     "data": {
      "text/html": [
       "<div>\n",
       "<style scoped>\n",
       "    .dataframe tbody tr th:only-of-type {\n",
       "        vertical-align: middle;\n",
       "    }\n",
       "\n",
       "    .dataframe tbody tr th {\n",
       "        vertical-align: top;\n",
       "    }\n",
       "\n",
       "    .dataframe thead th {\n",
       "        text-align: right;\n",
       "    }\n",
       "</style>\n",
       "<table border=\"1\" class=\"dataframe\">\n",
       "  <thead>\n",
       "    <tr style=\"text-align: right;\">\n",
       "      <th></th>\n",
       "      <th>name</th>\n",
       "      <th>online_order</th>\n",
       "      <th>book_table</th>\n",
       "      <th>rate</th>\n",
       "      <th>votes</th>\n",
       "      <th>approx_cost(for two people)</th>\n",
       "      <th>listed_in(type)</th>\n",
       "    </tr>\n",
       "  </thead>\n",
       "  <tbody>\n",
       "    <tr>\n",
       "      <th>0</th>\n",
       "      <td>Jalsa</td>\n",
       "      <td>Yes</td>\n",
       "      <td>Yes</td>\n",
       "      <td>4.1/5</td>\n",
       "      <td>775</td>\n",
       "      <td>800</td>\n",
       "      <td>Buffet</td>\n",
       "    </tr>\n",
       "    <tr>\n",
       "      <th>1</th>\n",
       "      <td>Spice Elephant</td>\n",
       "      <td>Yes</td>\n",
       "      <td>No</td>\n",
       "      <td>4.1/5</td>\n",
       "      <td>787</td>\n",
       "      <td>800</td>\n",
       "      <td>Buffet</td>\n",
       "    </tr>\n",
       "    <tr>\n",
       "      <th>2</th>\n",
       "      <td>San Churro Cafe</td>\n",
       "      <td>Yes</td>\n",
       "      <td>No</td>\n",
       "      <td>3.8/5</td>\n",
       "      <td>918</td>\n",
       "      <td>800</td>\n",
       "      <td>Buffet</td>\n",
       "    </tr>\n",
       "    <tr>\n",
       "      <th>3</th>\n",
       "      <td>Addhuri Udupi Bhojana</td>\n",
       "      <td>No</td>\n",
       "      <td>No</td>\n",
       "      <td>3.7/5</td>\n",
       "      <td>88</td>\n",
       "      <td>300</td>\n",
       "      <td>Buffet</td>\n",
       "    </tr>\n",
       "    <tr>\n",
       "      <th>4</th>\n",
       "      <td>Grand Village</td>\n",
       "      <td>No</td>\n",
       "      <td>No</td>\n",
       "      <td>3.8/5</td>\n",
       "      <td>166</td>\n",
       "      <td>600</td>\n",
       "      <td>Buffet</td>\n",
       "    </tr>\n",
       "    <tr>\n",
       "      <th>...</th>\n",
       "      <td>...</td>\n",
       "      <td>...</td>\n",
       "      <td>...</td>\n",
       "      <td>...</td>\n",
       "      <td>...</td>\n",
       "      <td>...</td>\n",
       "      <td>...</td>\n",
       "    </tr>\n",
       "    <tr>\n",
       "      <th>143</th>\n",
       "      <td>Melting Melodies</td>\n",
       "      <td>No</td>\n",
       "      <td>No</td>\n",
       "      <td>3.3/5</td>\n",
       "      <td>0</td>\n",
       "      <td>100</td>\n",
       "      <td>Dining</td>\n",
       "    </tr>\n",
       "    <tr>\n",
       "      <th>144</th>\n",
       "      <td>New Indraprasta</td>\n",
       "      <td>No</td>\n",
       "      <td>No</td>\n",
       "      <td>3.3/5</td>\n",
       "      <td>0</td>\n",
       "      <td>150</td>\n",
       "      <td>Dining</td>\n",
       "    </tr>\n",
       "    <tr>\n",
       "      <th>145</th>\n",
       "      <td>Anna Kuteera</td>\n",
       "      <td>Yes</td>\n",
       "      <td>No</td>\n",
       "      <td>4.0/5</td>\n",
       "      <td>771</td>\n",
       "      <td>450</td>\n",
       "      <td>Dining</td>\n",
       "    </tr>\n",
       "    <tr>\n",
       "      <th>146</th>\n",
       "      <td>Darbar</td>\n",
       "      <td>No</td>\n",
       "      <td>No</td>\n",
       "      <td>3.0/5</td>\n",
       "      <td>98</td>\n",
       "      <td>800</td>\n",
       "      <td>Dining</td>\n",
       "    </tr>\n",
       "    <tr>\n",
       "      <th>147</th>\n",
       "      <td>Vijayalakshmi</td>\n",
       "      <td>Yes</td>\n",
       "      <td>No</td>\n",
       "      <td>3.9/5</td>\n",
       "      <td>47</td>\n",
       "      <td>200</td>\n",
       "      <td>Dining</td>\n",
       "    </tr>\n",
       "  </tbody>\n",
       "</table>\n",
       "<p>148 rows × 7 columns</p>\n",
       "</div>"
      ],
      "text/plain": [
       "                      name online_order book_table   rate  votes  \\\n",
       "0                    Jalsa          Yes        Yes  4.1/5    775   \n",
       "1           Spice Elephant          Yes         No  4.1/5    787   \n",
       "2          San Churro Cafe          Yes         No  3.8/5    918   \n",
       "3    Addhuri Udupi Bhojana           No         No  3.7/5     88   \n",
       "4            Grand Village           No         No  3.8/5    166   \n",
       "..                     ...          ...        ...    ...    ...   \n",
       "143       Melting Melodies           No         No  3.3/5      0   \n",
       "144        New Indraprasta           No         No  3.3/5      0   \n",
       "145           Anna Kuteera          Yes         No  4.0/5    771   \n",
       "146                 Darbar           No         No  3.0/5     98   \n",
       "147          Vijayalakshmi          Yes         No  3.9/5     47   \n",
       "\n",
       "     approx_cost(for two people) listed_in(type)  \n",
       "0                            800          Buffet  \n",
       "1                            800          Buffet  \n",
       "2                            800          Buffet  \n",
       "3                            300          Buffet  \n",
       "4                            600          Buffet  \n",
       "..                           ...             ...  \n",
       "143                          100          Dining  \n",
       "144                          150          Dining  \n",
       "145                          450          Dining  \n",
       "146                          800          Dining  \n",
       "147                          200          Dining  \n",
       "\n",
       "[148 rows x 7 columns]"
      ]
     },
     "execution_count": 3,
     "metadata": {},
     "output_type": "execute_result"
    }
   ],
   "source": [
    "dataframe"
   ]
  },
  {
   "cell_type": "code",
   "execution_count": 4,
   "id": "f5682ffe-5845-4e94-85fe-3039f60224f3",
   "metadata": {},
   "outputs": [
    {
     "name": "stdout",
     "output_type": "stream",
     "text": [
      "<class 'pandas.core.frame.DataFrame'>\n",
      "RangeIndex: 148 entries, 0 to 147\n",
      "Data columns (total 7 columns):\n",
      " #   Column                       Non-Null Count  Dtype \n",
      "---  ------                       --------------  ----- \n",
      " 0   name                         148 non-null    object\n",
      " 1   online_order                 148 non-null    object\n",
      " 2   book_table                   148 non-null    object\n",
      " 3   rate                         148 non-null    object\n",
      " 4   votes                        148 non-null    int64 \n",
      " 5   approx_cost(for two people)  148 non-null    int64 \n",
      " 6   listed_in(type)              148 non-null    object\n",
      "dtypes: int64(2), object(5)\n",
      "memory usage: 8.2+ KB\n"
     ]
    }
   ],
   "source": [
    "dataframe.info()"
   ]
  },
  {
   "cell_type": "code",
   "execution_count": 5,
   "id": "7be0b539-ca3b-4993-88c9-f47e2761606f",
   "metadata": {},
   "outputs": [
    {
     "data": {
      "text/plain": [
       "name                           0\n",
       "online_order                   0\n",
       "book_table                     0\n",
       "rate                           0\n",
       "votes                          0\n",
       "approx_cost(for two people)    0\n",
       "listed_in(type)                0\n",
       "dtype: int64"
      ]
     },
     "execution_count": 5,
     "metadata": {},
     "output_type": "execute_result"
    }
   ],
   "source": [
    "dataframe.isnull().sum()   #for cheacking sum of null value"
   ]
  },
  {
   "cell_type": "code",
   "execution_count": 6,
   "id": "43722107-fb24-4202-ae8a-dd248212a20b",
   "metadata": {},
   "outputs": [],
   "source": [
    "# Data Cleaning # Check missing value # Checking Outlier"
   ]
  },
  {
   "cell_type": "code",
   "execution_count": 7,
   "id": "fe40844b-6e6e-47fd-9fd9-ca7b441947e3",
   "metadata": {},
   "outputs": [],
   "source": [
    "# we get rate column\n",
    "# Convert the datatype of column-rate\n",
    "# create function"
   ]
  },
  {
   "cell_type": "code",
   "execution_count": 8,
   "id": "120d540a-1b28-47de-b126-16becfb30651",
   "metadata": {},
   "outputs": [],
   "source": [
    "def handleRate(value):    # user define function create\n",
    "    value=str(value).split('/')  #previous datatype in str then split mean cutting value\n",
    "    value=value[0]   # 0th position value to get\n",
    "    return float(value)  # last we get value is in float\n",
    "\n",
    "dataframe['rate']=dataframe['rate'].apply(handleRate)  # column name rate"
   ]
  },
  {
   "cell_type": "code",
   "execution_count": 9,
   "id": "fb28be36-53d3-463a-930d-d3a6bcf65cd7",
   "metadata": {},
   "outputs": [
    {
     "data": {
      "text/html": [
       "<div>\n",
       "<style scoped>\n",
       "    .dataframe tbody tr th:only-of-type {\n",
       "        vertical-align: middle;\n",
       "    }\n",
       "\n",
       "    .dataframe tbody tr th {\n",
       "        vertical-align: top;\n",
       "    }\n",
       "\n",
       "    .dataframe thead th {\n",
       "        text-align: right;\n",
       "    }\n",
       "</style>\n",
       "<table border=\"1\" class=\"dataframe\">\n",
       "  <thead>\n",
       "    <tr style=\"text-align: right;\">\n",
       "      <th></th>\n",
       "      <th>name</th>\n",
       "      <th>online_order</th>\n",
       "      <th>book_table</th>\n",
       "      <th>rate</th>\n",
       "      <th>votes</th>\n",
       "      <th>approx_cost(for two people)</th>\n",
       "      <th>listed_in(type)</th>\n",
       "    </tr>\n",
       "  </thead>\n",
       "  <tbody>\n",
       "    <tr>\n",
       "      <th>0</th>\n",
       "      <td>Jalsa</td>\n",
       "      <td>Yes</td>\n",
       "      <td>Yes</td>\n",
       "      <td>4.1</td>\n",
       "      <td>775</td>\n",
       "      <td>800</td>\n",
       "      <td>Buffet</td>\n",
       "    </tr>\n",
       "    <tr>\n",
       "      <th>1</th>\n",
       "      <td>Spice Elephant</td>\n",
       "      <td>Yes</td>\n",
       "      <td>No</td>\n",
       "      <td>4.1</td>\n",
       "      <td>787</td>\n",
       "      <td>800</td>\n",
       "      <td>Buffet</td>\n",
       "    </tr>\n",
       "    <tr>\n",
       "      <th>2</th>\n",
       "      <td>San Churro Cafe</td>\n",
       "      <td>Yes</td>\n",
       "      <td>No</td>\n",
       "      <td>3.8</td>\n",
       "      <td>918</td>\n",
       "      <td>800</td>\n",
       "      <td>Buffet</td>\n",
       "    </tr>\n",
       "    <tr>\n",
       "      <th>3</th>\n",
       "      <td>Addhuri Udupi Bhojana</td>\n",
       "      <td>No</td>\n",
       "      <td>No</td>\n",
       "      <td>3.7</td>\n",
       "      <td>88</td>\n",
       "      <td>300</td>\n",
       "      <td>Buffet</td>\n",
       "    </tr>\n",
       "    <tr>\n",
       "      <th>4</th>\n",
       "      <td>Grand Village</td>\n",
       "      <td>No</td>\n",
       "      <td>No</td>\n",
       "      <td>3.8</td>\n",
       "      <td>166</td>\n",
       "      <td>600</td>\n",
       "      <td>Buffet</td>\n",
       "    </tr>\n",
       "    <tr>\n",
       "      <th>...</th>\n",
       "      <td>...</td>\n",
       "      <td>...</td>\n",
       "      <td>...</td>\n",
       "      <td>...</td>\n",
       "      <td>...</td>\n",
       "      <td>...</td>\n",
       "      <td>...</td>\n",
       "    </tr>\n",
       "    <tr>\n",
       "      <th>143</th>\n",
       "      <td>Melting Melodies</td>\n",
       "      <td>No</td>\n",
       "      <td>No</td>\n",
       "      <td>3.3</td>\n",
       "      <td>0</td>\n",
       "      <td>100</td>\n",
       "      <td>Dining</td>\n",
       "    </tr>\n",
       "    <tr>\n",
       "      <th>144</th>\n",
       "      <td>New Indraprasta</td>\n",
       "      <td>No</td>\n",
       "      <td>No</td>\n",
       "      <td>3.3</td>\n",
       "      <td>0</td>\n",
       "      <td>150</td>\n",
       "      <td>Dining</td>\n",
       "    </tr>\n",
       "    <tr>\n",
       "      <th>145</th>\n",
       "      <td>Anna Kuteera</td>\n",
       "      <td>Yes</td>\n",
       "      <td>No</td>\n",
       "      <td>4.0</td>\n",
       "      <td>771</td>\n",
       "      <td>450</td>\n",
       "      <td>Dining</td>\n",
       "    </tr>\n",
       "    <tr>\n",
       "      <th>146</th>\n",
       "      <td>Darbar</td>\n",
       "      <td>No</td>\n",
       "      <td>No</td>\n",
       "      <td>3.0</td>\n",
       "      <td>98</td>\n",
       "      <td>800</td>\n",
       "      <td>Dining</td>\n",
       "    </tr>\n",
       "    <tr>\n",
       "      <th>147</th>\n",
       "      <td>Vijayalakshmi</td>\n",
       "      <td>Yes</td>\n",
       "      <td>No</td>\n",
       "      <td>3.9</td>\n",
       "      <td>47</td>\n",
       "      <td>200</td>\n",
       "      <td>Dining</td>\n",
       "    </tr>\n",
       "  </tbody>\n",
       "</table>\n",
       "<p>148 rows × 7 columns</p>\n",
       "</div>"
      ],
      "text/plain": [
       "                      name online_order book_table  rate  votes  \\\n",
       "0                    Jalsa          Yes        Yes   4.1    775   \n",
       "1           Spice Elephant          Yes         No   4.1    787   \n",
       "2          San Churro Cafe          Yes         No   3.8    918   \n",
       "3    Addhuri Udupi Bhojana           No         No   3.7     88   \n",
       "4            Grand Village           No         No   3.8    166   \n",
       "..                     ...          ...        ...   ...    ...   \n",
       "143       Melting Melodies           No         No   3.3      0   \n",
       "144        New Indraprasta           No         No   3.3      0   \n",
       "145           Anna Kuteera          Yes         No   4.0    771   \n",
       "146                 Darbar           No         No   3.0     98   \n",
       "147          Vijayalakshmi          Yes         No   3.9     47   \n",
       "\n",
       "     approx_cost(for two people) listed_in(type)  \n",
       "0                            800          Buffet  \n",
       "1                            800          Buffet  \n",
       "2                            800          Buffet  \n",
       "3                            300          Buffet  \n",
       "4                            600          Buffet  \n",
       "..                           ...             ...  \n",
       "143                          100          Dining  \n",
       "144                          150          Dining  \n",
       "145                          450          Dining  \n",
       "146                          800          Dining  \n",
       "147                          200          Dining  \n",
       "\n",
       "[148 rows x 7 columns]"
      ]
     },
     "execution_count": 9,
     "metadata": {},
     "output_type": "execute_result"
    }
   ],
   "source": [
    "dataframe"
   ]
  },
  {
   "cell_type": "code",
   "execution_count": 10,
   "id": "64ef7976-e5ee-4b13-84bd-1adea59b2523",
   "metadata": {},
   "outputs": [
    {
     "name": "stdout",
     "output_type": "stream",
     "text": [
      "<class 'pandas.core.frame.DataFrame'>\n",
      "RangeIndex: 148 entries, 0 to 147\n",
      "Data columns (total 7 columns):\n",
      " #   Column                       Non-Null Count  Dtype  \n",
      "---  ------                       --------------  -----  \n",
      " 0   name                         148 non-null    object \n",
      " 1   online_order                 148 non-null    object \n",
      " 2   book_table                   148 non-null    object \n",
      " 3   rate                         148 non-null    float64\n",
      " 4   votes                        148 non-null    int64  \n",
      " 5   approx_cost(for two people)  148 non-null    int64  \n",
      " 6   listed_in(type)              148 non-null    object \n",
      "dtypes: float64(1), int64(2), object(4)\n",
      "memory usage: 8.2+ KB\n"
     ]
    }
   ],
   "source": [
    "dataframe.info()  # rate converted into float64"
   ]
  },
  {
   "cell_type": "markdown",
   "id": "840ce3f9-5347-4bad-9fa0-6beb9f8ecd41",
   "metadata": {},
   "source": [
    "# Q1.What type of restaurant do the majority of customers order from?"
   ]
  },
  {
   "cell_type": "markdown",
   "id": "7d468f49-065b-4e82-9f6d-4e7ea48c88d7",
   "metadata": {},
   "source": [
    "# Types of Restaurant"
   ]
  },
  {
   "cell_type": "code",
   "execution_count": 11,
   "id": "eca4b261-2486-4624-a9b3-3b1678f4be20",
   "metadata": {},
   "outputs": [
    {
     "data": {
      "text/html": [
       "<div>\n",
       "<style scoped>\n",
       "    .dataframe tbody tr th:only-of-type {\n",
       "        vertical-align: middle;\n",
       "    }\n",
       "\n",
       "    .dataframe tbody tr th {\n",
       "        vertical-align: top;\n",
       "    }\n",
       "\n",
       "    .dataframe thead th {\n",
       "        text-align: right;\n",
       "    }\n",
       "</style>\n",
       "<table border=\"1\" class=\"dataframe\">\n",
       "  <thead>\n",
       "    <tr style=\"text-align: right;\">\n",
       "      <th></th>\n",
       "      <th>name</th>\n",
       "      <th>online_order</th>\n",
       "      <th>book_table</th>\n",
       "      <th>rate</th>\n",
       "      <th>votes</th>\n",
       "      <th>approx_cost(for two people)</th>\n",
       "      <th>listed_in(type)</th>\n",
       "    </tr>\n",
       "  </thead>\n",
       "  <tbody>\n",
       "    <tr>\n",
       "      <th>0</th>\n",
       "      <td>Jalsa</td>\n",
       "      <td>Yes</td>\n",
       "      <td>Yes</td>\n",
       "      <td>4.1</td>\n",
       "      <td>775</td>\n",
       "      <td>800</td>\n",
       "      <td>Buffet</td>\n",
       "    </tr>\n",
       "    <tr>\n",
       "      <th>1</th>\n",
       "      <td>Spice Elephant</td>\n",
       "      <td>Yes</td>\n",
       "      <td>No</td>\n",
       "      <td>4.1</td>\n",
       "      <td>787</td>\n",
       "      <td>800</td>\n",
       "      <td>Buffet</td>\n",
       "    </tr>\n",
       "  </tbody>\n",
       "</table>\n",
       "</div>"
      ],
      "text/plain": [
       "             name online_order book_table  rate  votes  \\\n",
       "0           Jalsa          Yes        Yes   4.1    775   \n",
       "1  Spice Elephant          Yes         No   4.1    787   \n",
       "\n",
       "   approx_cost(for two people) listed_in(type)  \n",
       "0                          800          Buffet  \n",
       "1                          800          Buffet  "
      ]
     },
     "execution_count": 11,
     "metadata": {},
     "output_type": "execute_result"
    }
   ],
   "source": [
    "dataframe.head(2)"
   ]
  },
  {
   "cell_type": "code",
   "execution_count": 12,
   "id": "68eccaf5-5f89-4021-8883-8b2d881b3abb",
   "metadata": {},
   "outputs": [],
   "source": [
    "# By using (seaborn) plot get solution"
   ]
  },
  {
   "cell_type": "code",
   "execution_count": 13,
   "id": "c1e78a7a-96c5-40ae-b6aa-55fc5ce6cc2f",
   "metadata": {},
   "outputs": [
    {
     "data": {
      "text/plain": [
       "Text(0.5, 0, 'type of reastaurant')"
      ]
     },
     "execution_count": 13,
     "metadata": {},
     "output_type": "execute_result"
    },
    {
     "data": {
      "image/png": "[encoded data removed]",
      "text/plain": [
       "<Figure size 640x480 with 1 Axes>"
      ]
     },
     "metadata": {},
     "output_type": "display_data"
    }
   ],
   "source": [
    "sns.countplot(x=dataframe['listed_in(type)'])\n",
    "plt.xlabel(\"type of reastaurant\")"
   ]
  },
  {
   "cell_type": "markdown",
   "id": "f3772923-d404-42e0-98d2-a6ef07b2ea6d",
   "metadata": {},
   "source": [
    "# Conclusion: majority of the restaurant falls in dinning category."
   ]
  },
  {
   "cell_type": "markdown",
   "id": "e720470e-67a7-4405-bd51-27fbcd0f6c0f",
   "metadata": {},
   "source": [
    "# Q2.How many votes has each type of restaurant received from customers?"
   ]
  },
  {
   "cell_type": "code",
   "execution_count": 23,
   "id": "b7dbfdf6-78b0-4c45-bc51-2548f612be42",
   "metadata": {},
   "outputs": [
    {
     "data": {
      "text/html": [
       "<div>\n",
       "<style scoped>\n",
       "    .dataframe tbody tr th:only-of-type {\n",
       "        vertical-align: middle;\n",
       "    }\n",
       "\n",
       "    .dataframe tbody tr th {\n",
       "        vertical-align: top;\n",
       "    }\n",
       "\n",
       "    .dataframe thead th {\n",
       "        text-align: right;\n",
       "    }\n",
       "</style>\n",
       "<table border=\"1\" class=\"dataframe\">\n",
       "  <thead>\n",
       "    <tr style=\"text-align: right;\">\n",
       "      <th></th>\n",
       "      <th>name</th>\n",
       "      <th>online_order</th>\n",
       "      <th>book_table</th>\n",
       "      <th>rate</th>\n",
       "      <th>votes</th>\n",
       "      <th>approx_cost(for two people)</th>\n",
       "      <th>listed_in(type)</th>\n",
       "    </tr>\n",
       "  </thead>\n",
       "  <tbody>\n",
       "    <tr>\n",
       "      <th>0</th>\n",
       "      <td>Jalsa</td>\n",
       "      <td>Yes</td>\n",
       "      <td>Yes</td>\n",
       "      <td>4.1</td>\n",
       "      <td>775</td>\n",
       "      <td>800</td>\n",
       "      <td>Buffet</td>\n",
       "    </tr>\n",
       "    <tr>\n",
       "      <th>1</th>\n",
       "      <td>Spice Elephant</td>\n",
       "      <td>Yes</td>\n",
       "      <td>No</td>\n",
       "      <td>4.1</td>\n",
       "      <td>787</td>\n",
       "      <td>800</td>\n",
       "      <td>Buffet</td>\n",
       "    </tr>\n",
       "  </tbody>\n",
       "</table>\n",
       "</div>"
      ],
      "text/plain": [
       "             name online_order book_table  rate  votes  \\\n",
       "0           Jalsa          Yes        Yes   4.1    775   \n",
       "1  Spice Elephant          Yes         No   4.1    787   \n",
       "\n",
       "   approx_cost(for two people) listed_in(type)  \n",
       "0                          800          Buffet  \n",
       "1                          800          Buffet  "
      ]
     },
     "execution_count": 23,
     "metadata": {},
     "output_type": "execute_result"
    }
   ],
   "source": [
    "dataframe.head(2)"
   ]
  },
  {
   "cell_type": "code",
   "execution_count": 16,
   "id": "97fc6718-475f-4b17-994b-dc2f0c551ad6",
   "metadata": {},
   "outputs": [
    {
     "data": {
      "text/plain": [
       "Text(0, 0.5, 'Votes')"
      ]
     },
     "execution_count": 16,
     "metadata": {},
     "output_type": "execute_result"
    },
    {
     "data": {
      "image/png": "[encoded data removed]",
      "text/plain": [
       "<Figure size 640x480 with 1 Axes>"
      ]
     },
     "metadata": {},
     "output_type": "display_data"
    }
   ],
   "source": [
    "grouped_data=dataframe.groupby('listed_in(type)')['votes'].sum()  # create function ,groupby & sum two columns\n",
    "result=pd.DataFrame({'votes': grouped_data})  # in result pass grouped_data\n",
    "plt.plot(result,c=\"green\",marker=\"o\")  # line colour green and marker point o\n",
    "plt.xlabel(\"Type of restaurant\",c=\"red\",size=20) # x axis for written type of restaurant on red color with size\n",
    "plt.ylabel(\"Votes\",c=\"red\",size=20)  # y axis for Written votes on red color"
   ]
  },
  {
   "cell_type": "markdown",
   "id": "ca4ce448-d742-4747-a168-57b3d5fbc5f1",
   "metadata": {},
   "source": [
    "# Conclusion: Dinning restaurants has recieved maximum above 20K votes"
   ]
  },
  {
   "cell_type": "code",
   "execution_count": 17,
   "id": "2645514f-1d04-40a9-b621-8697dc0f5a2e",
   "metadata": {},
   "outputs": [
    {
     "data": {
      "text/html": [
       "<div>\n",
       "<style scoped>\n",
       "    .dataframe tbody tr th:only-of-type {\n",
       "        vertical-align: middle;\n",
       "    }\n",
       "\n",
       "    .dataframe tbody tr th {\n",
       "        vertical-align: top;\n",
       "    }\n",
       "\n",
       "    .dataframe thead th {\n",
       "        text-align: right;\n",
       "    }\n",
       "</style>\n",
       "<table border=\"1\" class=\"dataframe\">\n",
       "  <thead>\n",
       "    <tr style=\"text-align: right;\">\n",
       "      <th></th>\n",
       "      <th>name</th>\n",
       "      <th>online_order</th>\n",
       "      <th>book_table</th>\n",
       "      <th>rate</th>\n",
       "      <th>votes</th>\n",
       "      <th>approx_cost(for two people)</th>\n",
       "      <th>listed_in(type)</th>\n",
       "    </tr>\n",
       "  </thead>\n",
       "  <tbody>\n",
       "    <tr>\n",
       "      <th>0</th>\n",
       "      <td>Jalsa</td>\n",
       "      <td>Yes</td>\n",
       "      <td>Yes</td>\n",
       "      <td>4.1</td>\n",
       "      <td>775</td>\n",
       "      <td>800</td>\n",
       "      <td>Buffet</td>\n",
       "    </tr>\n",
       "    <tr>\n",
       "      <th>1</th>\n",
       "      <td>Spice Elephant</td>\n",
       "      <td>Yes</td>\n",
       "      <td>No</td>\n",
       "      <td>4.1</td>\n",
       "      <td>787</td>\n",
       "      <td>800</td>\n",
       "      <td>Buffet</td>\n",
       "    </tr>\n",
       "  </tbody>\n",
       "</table>\n",
       "</div>"
      ],
      "text/plain": [
       "             name online_order book_table  rate  votes  \\\n",
       "0           Jalsa          Yes        Yes   4.1    775   \n",
       "1  Spice Elephant          Yes         No   4.1    787   \n",
       "\n",
       "   approx_cost(for two people) listed_in(type)  \n",
       "0                          800          Buffet  \n",
       "1                          800          Buffet  "
      ]
     },
     "execution_count": 17,
     "metadata": {},
     "output_type": "execute_result"
    }
   ],
   "source": [
    "dataframe.head(2)"
   ]
  },
  {
   "cell_type": "code",
   "execution_count": 22,
   "id": "d77ca853-68c9-40e1-8932-917052c74c43",
   "metadata": {},
   "outputs": [
    {
     "data": {
      "image/png": "[encoded data removed]",
      "text/plain": [
       "<Figure size 640x480 with 1 Axes>"
      ]
     },
     "metadata": {},
     "output_type": "display_data"
    }
   ],
   "source": [
    "plt.hist(dataframe['rate'],bins=10)  #bar=bins\n",
    "plt.title(\"ratings distribution\")\n",
    "plt.show()"
   ]
  },
  {
   "cell_type": "markdown",
   "id": "cb838e29-e22a-4e48-a71d-bd61fadb91e8",
   "metadata": {},
   "source": [
    "# Q3.What are the ratings the majority of restaurant have received?"
   ]
  },
  {
   "cell_type": "code",
   "execution_count": 24,
   "id": "75ffaeb9-7574-4cf3-8ec6-6a8ae9f62472",
   "metadata": {},
   "outputs": [
    {
     "data": {
      "text/html": [
       "<div>\n",
       "<style scoped>\n",
       "    .dataframe tbody tr th:only-of-type {\n",
       "        vertical-align: middle;\n",
       "    }\n",
       "\n",
       "    .dataframe tbody tr th {\n",
       "        vertical-align: top;\n",
       "    }\n",
       "\n",
       "    .dataframe thead th {\n",
       "        text-align: right;\n",
       "    }\n",
       "</style>\n",
       "<table border=\"1\" class=\"dataframe\">\n",
       "  <thead>\n",
       "    <tr style=\"text-align: right;\">\n",
       "      <th></th>\n",
       "      <th>name</th>\n",
       "      <th>online_order</th>\n",
       "      <th>book_table</th>\n",
       "      <th>rate</th>\n",
       "      <th>votes</th>\n",
       "      <th>approx_cost(for two people)</th>\n",
       "      <th>listed_in(type)</th>\n",
       "    </tr>\n",
       "  </thead>\n",
       "  <tbody>\n",
       "    <tr>\n",
       "      <th>0</th>\n",
       "      <td>Jalsa</td>\n",
       "      <td>Yes</td>\n",
       "      <td>Yes</td>\n",
       "      <td>4.1</td>\n",
       "      <td>775</td>\n",
       "      <td>800</td>\n",
       "      <td>Buffet</td>\n",
       "    </tr>\n",
       "    <tr>\n",
       "      <th>1</th>\n",
       "      <td>Spice Elephant</td>\n",
       "      <td>Yes</td>\n",
       "      <td>No</td>\n",
       "      <td>4.1</td>\n",
       "      <td>787</td>\n",
       "      <td>800</td>\n",
       "      <td>Buffet</td>\n",
       "    </tr>\n",
       "  </tbody>\n",
       "</table>\n",
       "</div>"
      ],
      "text/plain": [
       "             name online_order book_table  rate  votes  \\\n",
       "0           Jalsa          Yes        Yes   4.1    775   \n",
       "1  Spice Elephant          Yes         No   4.1    787   \n",
       "\n",
       "   approx_cost(for two people) listed_in(type)  \n",
       "0                          800          Buffet  \n",
       "1                          800          Buffet  "
      ]
     },
     "execution_count": 24,
     "metadata": {},
     "output_type": "execute_result"
    }
   ],
   "source": [
    "dataframe.head(2)"
   ]
  },
  {
   "cell_type": "code",
   "execution_count": 26,
   "id": "54838f1c-6894-445d-9422-58fd22d0e063",
   "metadata": {},
   "outputs": [
    {
     "data": {
      "image/png": "[encoded data removed]",
      "text/plain": [
       "<Figure size 640x480 with 1 Axes>"
      ]
     },
     "metadata": {},
     "output_type": "display_data"
    }
   ],
   "source": [
    "plt.hist(dataframe['rate'],bins=10)\n",
    "plt.title(\"rating distribution\")\n",
    "plt.show()"
   ]
  },
  {
   "cell_type": "markdown",
   "id": "dde413cb-7983-410b-ab86-a1209e71c734",
   "metadata": {},
   "source": [
    "# Conclusion:- The majority restaurant received rating from in between 3.5 to 4"
   ]
  },
  {
   "cell_type": "markdown",
   "id": "ff119e0b-2389-46c9-b444-902ea117d7b6",
   "metadata": {},
   "source": [
    "\n",
    "# Q4.Zomato has observed that most couples order most of their food online.What is their aveage spending on each order?\n"
   ]
  },
  {
   "cell_type": "code",
   "execution_count": 27,
   "id": "4c575a1e-be23-4ccf-9794-3ab0d0ffbe50",
   "metadata": {},
   "outputs": [
    {
     "data": {
      "text/html": [
       "<div>\n",
       "<style scoped>\n",
       "    .dataframe tbody tr th:only-of-type {\n",
       "        vertical-align: middle;\n",
       "    }\n",
       "\n",
       "    .dataframe tbody tr th {\n",
       "        vertical-align: top;\n",
       "    }\n",
       "\n",
       "    .dataframe thead th {\n",
       "        text-align: right;\n",
       "    }\n",
       "</style>\n",
       "<table border=\"1\" class=\"dataframe\">\n",
       "  <thead>\n",
       "    <tr style=\"text-align: right;\">\n",
       "      <th></th>\n",
       "      <th>name</th>\n",
       "      <th>online_order</th>\n",
       "      <th>book_table</th>\n",
       "      <th>rate</th>\n",
       "      <th>votes</th>\n",
       "      <th>approx_cost(for two people)</th>\n",
       "      <th>listed_in(type)</th>\n",
       "    </tr>\n",
       "  </thead>\n",
       "  <tbody>\n",
       "    <tr>\n",
       "      <th>0</th>\n",
       "      <td>Jalsa</td>\n",
       "      <td>Yes</td>\n",
       "      <td>Yes</td>\n",
       "      <td>4.1</td>\n",
       "      <td>775</td>\n",
       "      <td>800</td>\n",
       "      <td>Buffet</td>\n",
       "    </tr>\n",
       "    <tr>\n",
       "      <th>1</th>\n",
       "      <td>Spice Elephant</td>\n",
       "      <td>Yes</td>\n",
       "      <td>No</td>\n",
       "      <td>4.1</td>\n",
       "      <td>787</td>\n",
       "      <td>800</td>\n",
       "      <td>Buffet</td>\n",
       "    </tr>\n",
       "  </tbody>\n",
       "</table>\n",
       "</div>"
      ],
      "text/plain": [
       "             name online_order book_table  rate  votes  \\\n",
       "0           Jalsa          Yes        Yes   4.1    775   \n",
       "1  Spice Elephant          Yes         No   4.1    787   \n",
       "\n",
       "   approx_cost(for two people) listed_in(type)  \n",
       "0                          800          Buffet  \n",
       "1                          800          Buffet  "
      ]
     },
     "execution_count": 27,
     "metadata": {},
     "output_type": "execute_result"
    }
   ],
   "source": [
    "# Average order spending by couples\n",
    "dataframe.head(2)"
   ]
  },
  {
   "cell_type": "code",
   "execution_count": 28,
   "id": "ba37e3ad-3483-4411-9ea6-d0c902b37f56",
   "metadata": {},
   "outputs": [
    {
     "data": {
      "text/plain": [
       "<Axes: xlabel='approx_cost(for two people)', ylabel='count'>"
      ]
     },
     "execution_count": 28,
     "metadata": {},
     "output_type": "execute_result"
    },
    {
     "data": {
      "image/png": "[encoded data removed]",
      "text/plain": [
       "<Figure size 640x480 with 1 Axes>"
      ]
     },
     "metadata": {},
     "output_type": "display_data"
    }
   ],
   "source": [
    "couple_data=dataframe['approx_cost(for two people)']\n",
    "sns.countplot(x=couple_data)"
   ]
  },
  {
   "cell_type": "markdown",
   "id": "fe21e65c-d6a9-4310-bbc5-c7e75ec02933",
   "metadata": {},
   "source": [
    "# Conclusion:- The majority of couples prefreed restaurant with an approximate cost of 300 rupees"
   ]
  },
  {
   "cell_type": "markdown",
   "id": "8c7da3cb-a86b-4a41-af5d-f4e01dadde02",
   "metadata": {},
   "source": [
    "# Q5.Which mode (online or offline) has received the maximum rating?\n",
    "\n"
   ]
  },
  {
   "cell_type": "code",
   "execution_count": 29,
   "id": "15b8fc93-d5fe-46c8-b3d4-9eca74c5aafb",
   "metadata": {},
   "outputs": [],
   "source": [
    "# which mode receives maximum rating "
   ]
  },
  {
   "cell_type": "code",
   "execution_count": 30,
   "id": "cfd5c1d5-a0d3-4178-b96d-c9bc94cc6dbb",
   "metadata": {},
   "outputs": [
    {
     "data": {
      "text/html": [
       "<div>\n",
       "<style scoped>\n",
       "    .dataframe tbody tr th:only-of-type {\n",
       "        vertical-align: middle;\n",
       "    }\n",
       "\n",
       "    .dataframe tbody tr th {\n",
       "        vertical-align: top;\n",
       "    }\n",
       "\n",
       "    .dataframe thead th {\n",
       "        text-align: right;\n",
       "    }\n",
       "</style>\n",
       "<table border=\"1\" class=\"dataframe\">\n",
       "  <thead>\n",
       "    <tr style=\"text-align: right;\">\n",
       "      <th></th>\n",
       "      <th>name</th>\n",
       "      <th>online_order</th>\n",
       "      <th>book_table</th>\n",
       "      <th>rate</th>\n",
       "      <th>votes</th>\n",
       "      <th>approx_cost(for two people)</th>\n",
       "      <th>listed_in(type)</th>\n",
       "    </tr>\n",
       "  </thead>\n",
       "  <tbody>\n",
       "    <tr>\n",
       "      <th>0</th>\n",
       "      <td>Jalsa</td>\n",
       "      <td>Yes</td>\n",
       "      <td>Yes</td>\n",
       "      <td>4.1</td>\n",
       "      <td>775</td>\n",
       "      <td>800</td>\n",
       "      <td>Buffet</td>\n",
       "    </tr>\n",
       "    <tr>\n",
       "      <th>1</th>\n",
       "      <td>Spice Elephant</td>\n",
       "      <td>Yes</td>\n",
       "      <td>No</td>\n",
       "      <td>4.1</td>\n",
       "      <td>787</td>\n",
       "      <td>800</td>\n",
       "      <td>Buffet</td>\n",
       "    </tr>\n",
       "  </tbody>\n",
       "</table>\n",
       "</div>"
      ],
      "text/plain": [
       "             name online_order book_table  rate  votes  \\\n",
       "0           Jalsa          Yes        Yes   4.1    775   \n",
       "1  Spice Elephant          Yes         No   4.1    787   \n",
       "\n",
       "   approx_cost(for two people) listed_in(type)  \n",
       "0                          800          Buffet  \n",
       "1                          800          Buffet  "
      ]
     },
     "execution_count": 30,
     "metadata": {},
     "output_type": "execute_result"
    }
   ],
   "source": [
    "dataframe.head(2)"
   ]
  },
  {
   "cell_type": "code",
   "execution_count": 31,
   "id": "a0b04210-5cde-4e8f-9e4f-1eaf751bb71c",
   "metadata": {},
   "outputs": [
    {
     "data": {
      "text/plain": [
       "<Axes: xlabel='online_order', ylabel='rate'>"
      ]
     },
     "execution_count": 31,
     "metadata": {},
     "output_type": "execute_result"
    },
    {
     "data": {
      "image/png": "[encoded data removed]",
      "text/plain": [
       "<Figure size 600x600 with 1 Axes>"
      ]
     },
     "metadata": {},
     "output_type": "display_data"
    }
   ],
   "source": [
    "plt.figure(figsize=(6,6))\n",
    "sns.boxplot(x='online_order',y='rate',data=dataframe)"
   ]
  },
  {
   "cell_type": "code",
   "execution_count": 32,
   "id": "f12d3e71-0a7c-4a93-9cfd-daeb7f09eb2f",
   "metadata": {},
   "outputs": [],
   "source": [
    "# Conclusion- Offline order received lower rating in comparision to online order."
   ]
  },
  {
   "cell_type": "markdown",
   "id": "f4dce1b9-fe98-4d00-98af-898e9369f388",
   "metadata": {},
   "source": [
    "# Q6.Which type of restaurant received more offline order ,so that Zomato can process customers with some good offers?¶"
   ]
  },
  {
   "cell_type": "code",
   "execution_count": 36,
   "id": "b5222a3d-a1b7-4e51-aed2-fb0549f9ae37",
   "metadata": {},
   "outputs": [
    {
     "data": {
      "text/plain": [
       "<function matplotlib.pyplot.show(close=None, block=None)>"
      ]
     },
     "execution_count": 36,
     "metadata": {},
     "output_type": "execute_result"
    },
    {
     "data": {
      "image/png": "[encoded data removed]",
      "text/plain": [
       "<Figure size 640x480 with 2 Axes>"
      ]
     },
     "metadata": {},
     "output_type": "display_data"
    }
   ],
   "source": [
    "pivot_table = dataframe.pivot_table(index='listed_in(type)',columns='online_order',aggfunc='size',fill_value=0)\n",
    "sns.heatmap(pivot_table,annot=True, cmap=\"YlGnBu\",fmt='d')\n",
    "plt.title(\"Heatmap\")\n",
    "plt.xlabel(\"Online Order\")\n",
    "plt.ylabel(\"Listed In (Type)\")\n",
    "plt.show"
   ]
  },
  {
   "cell_type": "code",
   "execution_count": null,
   "id": "13db72da-4ad3-48aa-b639-bda5cad16d18",
   "metadata": {},
   "outputs": [],
   "source": [
    "# Conclusion:- Dining restsursnts primarily accept offline orders,whereas cafes primarily receive online orders.\n",
    "# This suggests that clients prefreed orders in person at restaurants, but prefer online ordering at cafes."
   ]
  }
 ],
 "metadata": {
  "kernelspec": {
   "display_name": "Python 3 (ipykernel)",
   "language": "python",
   "name": "python3"
  },
  "language_info": {
   "codemirror_mode": {
    "name": "ipython",
    "version": 3
   },
   "file_extension": ".py",
   "mimetype": "text/x-python",
   "name": "python",
   "nbconvert_exporter": "python",
   "pygments_lexer": "ipython3",
   "version": "3.11.7"
  }
 },
 "nbformat": 4,
 "nbformat_minor": 5
}
